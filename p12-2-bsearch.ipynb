{
 "cells": [
  {
   "cell_type": "code",
   "execution_count": 2,
   "metadata": {},
   "outputs": [
    {
     "name": "stdout",
     "output_type": "stream",
     "text": [
      "5\n",
      "-1\n"
     ]
    }
   ],
   "source": [
    "def re_binary_search(a, x, start, end):\n",
    "    if start>end:\n",
    "        return -1\n",
    "    \n",
    "    mid = (start+end)//2\n",
    "    \n",
    "    if x == a[mid]:\n",
    "        return mid\n",
    "    elif x > a[mid]:\n",
    "        return re_binary_search(a, x, mid +1, end)\n",
    "    else:\n",
    "        return re_binary_search(a, x, start, mid -1)\n",
    "    \n",
    "    return -1\n",
    "    \n",
    "def binary_search(a, x):\n",
    "    return re_binary_search(a, x, 0, len(a) -1)\n",
    "d = [1,4, 9, 16, 25, 36, 49, 64, 81]\n",
    "print(binary_search(d, 36))\n",
    "print(binary_search(d, 50))"
   ]
  }
 ],
 "metadata": {
  "kernelspec": {
   "display_name": "Python 3",
   "language": "python",
   "name": "python3"
  },
  "language_info": {
   "codemirror_mode": {
    "name": "ipython",
    "version": 3
   },
   "file_extension": ".py",
   "mimetype": "text/x-python",
   "name": "python",
   "nbconvert_exporter": "python",
   "pygments_lexer": "ipython3",
   "version": "3.7.4"
  }
 },
 "nbformat": 4,
 "nbformat_minor": 2
}
