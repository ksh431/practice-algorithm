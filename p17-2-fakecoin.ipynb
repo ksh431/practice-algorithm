{
 "cells": [
  {
   "cell_type": "code",
   "execution_count": 1,
   "metadata": {},
   "outputs": [
    {
     "name": "stdout",
     "output_type": "stream",
     "text": [
      "29\n"
     ]
    }
   ],
   "source": [
    "def weigh(a, b, c, d):\n",
    "    fake = 29\n",
    "    if a <= fake and fake <= b:\n",
    "        return -1\n",
    "    if c <= fake and fake <= d:\n",
    "        return 1\n",
    "    return 0\n",
    "\n",
    "def find_fakecoin(left, right):\n",
    "    if left == right:\n",
    "        return left\n",
    "    half = (right - left + 1)//2\n",
    "    g1_left = left\n",
    "    g1_right = left + half -1\n",
    "    g2_left = left + half\n",
    "    g2_right = g2_left + half -1\n",
    "    result = weigh(g1_left, g1_right, g2_left, g2_right)\n",
    "    if result == -1:\n",
    "        return find_fakecoin(g1_left, g1_right)\n",
    "    elif result == 1:\n",
    "        return find_fakecoin(g2_left, g2_right)\n",
    "    else:\n",
    "        return right\n",
    "\n",
    "n = 100\n",
    "print(find_fakecoin(0, n-1))"
   ]
  }
 ],
 "metadata": {
  "kernelspec": {
   "display_name": "Python 3",
   "language": "python",
   "name": "python3"
  },
  "language_info": {
   "codemirror_mode": {
    "name": "ipython",
    "version": 3
   },
   "file_extension": ".py",
   "mimetype": "text/x-python",
   "name": "python",
   "nbconvert_exporter": "python",
   "pygments_lexer": "ipython3",
   "version": "3.7.4"
  }
 },
 "nbformat": 4,
 "nbformat_minor": 2
}
