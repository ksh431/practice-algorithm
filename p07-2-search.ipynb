{
 "cells": [
  {
   "cell_type": "code",
   "execution_count": 2,
   "metadata": {},
   "outputs": [
    {
     "name": "stdout",
     "output_type": "stream",
     "text": [
      "[2]\n",
      "[3, 6]\n",
      "[]\n"
     ]
    }
   ],
   "source": [
    "def search_list(a, x):\n",
    "    n = len(a)\n",
    "    an_list = []\n",
    "    for i in range(0, n):\n",
    "        if x==a[i]:\n",
    "            an_list.append(i)\n",
    "    return an_list\n",
    "    \n",
    "    \n",
    "v=[17, 92, 18, 33, 58, 7, 33, 42]\n",
    "print(search_list(v, 18))\n",
    "print(search_list(v, 33))\n",
    "print(search_list(v, 900))"
   ]
  },
  {
   "cell_type": "code",
   "execution_count": null,
   "metadata": {},
   "outputs": [],
   "source": []
  }
 ],
 "metadata": {
  "kernelspec": {
   "display_name": "Python 3",
   "language": "python",
   "name": "python3"
  },
  "language_info": {
   "codemirror_mode": {
    "name": "ipython",
    "version": 3
   },
   "file_extension": ".py",
   "mimetype": "text/x-python",
   "name": "python",
   "nbconvert_exporter": "python",
   "pygments_lexer": "ipython3",
   "version": "3.7.4"
  }
 },
 "nbformat": 4,
 "nbformat_minor": 2
}
