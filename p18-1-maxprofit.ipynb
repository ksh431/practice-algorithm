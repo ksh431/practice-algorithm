{
 "cells": [
  {
   "cell_type": "code",
   "execution_count": 1,
   "metadata": {},
   "outputs": [
    {
     "name": "stdout",
     "output_type": "stream",
     "text": [
      "2400\n"
     ]
    }
   ],
   "source": [
    "def max_profit(prices):\n",
    "    n = len(prices)\n",
    "    max_profit = 0\n",
    "    \n",
    "    for i in range(0, n-1):\n",
    "        for j in range(i+1, n):\n",
    "            profit = prices[j] - prices[i]\n",
    "            \n",
    "            if profit > max_profit:\n",
    "                max_profit = profit\n",
    "                \n",
    "    return max_profit\n",
    "\n",
    "stock = [10300, 9600, 9800, 8200, 7800, 8300, 9500, 9800, 10200, 9500]\n",
    "print(max_profit(stock))"
   ]
  }
 ],
 "metadata": {
  "kernelspec": {
   "display_name": "Python 3",
   "language": "python",
   "name": "python3"
  },
  "language_info": {
   "codemirror_mode": {
    "name": "ipython",
    "version": 3
   },
   "file_extension": ".py",
   "mimetype": "text/x-python",
   "name": "python",
   "nbconvert_exporter": "python",
   "pygments_lexer": "ipython3",
   "version": "3.7.4"
  }
 },
 "nbformat": 4,
 "nbformat_minor": 2
}
