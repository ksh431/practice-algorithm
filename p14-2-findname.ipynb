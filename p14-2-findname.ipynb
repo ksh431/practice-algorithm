{
 "cells": [
  {
   "cell_type": "code",
   "execution_count": 5,
   "metadata": {},
   "outputs": [
    {
     "name": "stdout",
     "output_type": "stream",
     "text": [
      "Justin\n",
      "John\n",
      "?\n"
     ]
    }
   ],
   "source": [
    "def findname(name,x):\n",
    "    if x in name:\n",
    "        return name[x]\n",
    "    else :\n",
    "        return \"?\"\n",
    "    \n",
    "name = {39: \"Justin\", 14: \"John\", 67: \"Mike\", 105: \"Summer\"}\n",
    "\n",
    "print(findname(name, 39))\n",
    "print(findname(name, 14))\n",
    "print(findname(name, 12))"
   ]
  }
 ],
 "metadata": {
  "kernelspec": {
   "display_name": "Python 3",
   "language": "python",
   "name": "python3"
  },
  "language_info": {
   "codemirror_mode": {
    "name": "ipython",
    "version": 3
   },
   "file_extension": ".py",
   "mimetype": "text/x-python",
   "name": "python",
   "nbconvert_exporter": "python",
   "pygments_lexer": "ipython3",
   "version": "3.7.4"
  }
 },
 "nbformat": 4,
 "nbformat_minor": 2
}
