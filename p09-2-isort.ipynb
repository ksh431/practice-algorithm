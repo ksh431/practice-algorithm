{
 "cells": [
  {
   "cell_type": "code",
   "execution_count": 2,
   "metadata": {},
   "outputs": [
    {
     "name": "stdout",
     "output_type": "stream",
     "text": [
      "[1, 2, 3, 4, 5]\n"
     ]
    }
   ],
   "source": [
    "def ins_sort(a):\n",
    "    n = len(a)\n",
    "    for i in range(1, n):\n",
    "        key= a[i]\n",
    "        j = i - 1\n",
    "        while j >= 0 and a[j] > key:\n",
    "            a[j+1] = a[j]\n",
    "            j -= 1\n",
    "        a[j+1] = key\n",
    "        \n",
    "d = [2,4,5,1,3]\n",
    "ins_sort(d)\n",
    "print(d)"
   ]
  }
 ],
 "metadata": {
  "kernelspec": {
   "display_name": "Python 3",
   "language": "python",
   "name": "python3"
  },
  "language_info": {
   "codemirror_mode": {
    "name": "ipython",
    "version": 3
   },
   "file_extension": ".py",
   "mimetype": "text/x-python",
   "name": "python",
   "nbconvert_exporter": "python",
   "pygments_lexer": "ipython3",
   "version": "3.7.4"
  }
 },
 "nbformat": 4,
 "nbformat_minor": 2
}
