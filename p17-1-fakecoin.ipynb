{
 "cells": [
  {
   "cell_type": "code",
   "execution_count": 1,
   "metadata": {},
   "outputs": [
    {
     "name": "stdout",
     "output_type": "stream",
     "text": [
      "29\n"
     ]
    }
   ],
   "source": [
    "def weigh(a, b, c, d):\n",
    "    fake = 29\n",
    "    if a <= fake and fake <= b:\n",
    "        return -1\n",
    "    if c <= fake and fake <= d:\n",
    "        return 1\n",
    "    return 0\n",
    "\n",
    "def find_fakecoin(left, right):\n",
    "    for i in range(left +1, right +1):\n",
    "        result = weigh(left, left, i, i)\n",
    "        if result == -1:\n",
    "            return left\n",
    "        elif result == 1:\n",
    "            return i\n",
    "        \n",
    "    return -1\n",
    "\n",
    "n=100\n",
    "print(find_fakecoin(0, n-1))"
   ]
  }
 ],
 "metadata": {
  "kernelspec": {
   "display_name": "Python 3",
   "language": "python",
   "name": "python3"
  },
  "language_info": {
   "codemirror_mode": {
    "name": "ipython",
    "version": 3
   },
   "file_extension": ".py",
   "mimetype": "text/x-python",
   "name": "python",
   "nbconvert_exporter": "python",
   "pygments_lexer": "ipython3",
   "version": "3.7.4"
  }
 },
 "nbformat": 4,
 "nbformat_minor": 2
}
