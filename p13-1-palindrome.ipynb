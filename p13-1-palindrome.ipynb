{
 "cells": [
  {
   "cell_type": "code",
   "execution_count": 2,
   "metadata": {},
   "outputs": [
    {
     "name": "stdout",
     "output_type": "stream",
     "text": [
      "True\n",
      "True\n",
      "False\n"
     ]
    }
   ],
   "source": [
    "def palindrome(s):\n",
    "    qu = []\n",
    "    st = []\n",
    "    for x in s:\n",
    "        if x.isalpha():\n",
    "            qu.append(x.lower())\n",
    "            st.append(x.lower())\n",
    "            \n",
    "    while qu:\n",
    "        if qu.pop(0)!= st.pop():\n",
    "            return False\n",
    "        \n",
    "    return True\n",
    "\n",
    "print(palindrome(\"Wow\"))\n",
    "print(palindrome(\"Madam, I'm Adam.\"))\n",
    "print(palindrome(\"Madam, I am Adam.\"))"
   ]
  }
 ],
 "metadata": {
  "kernelspec": {
   "display_name": "Python 3",
   "language": "python",
   "name": "python3"
  },
  "language_info": {
   "codemirror_mode": {
    "name": "ipython",
    "version": 3
   },
   "file_extension": ".py",
   "mimetype": "text/x-python",
   "name": "python",
   "nbconvert_exporter": "python",
   "pygments_lexer": "ipython3",
   "version": "3.7.4"
  }
 },
 "nbformat": 4,
 "nbformat_minor": 2
}
