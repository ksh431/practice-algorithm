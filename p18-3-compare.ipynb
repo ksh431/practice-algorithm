{
 "cells": [
  {
   "cell_type": "code",
   "execution_count": 1,
   "metadata": {},
   "outputs": [
    {
     "name": "stdout",
     "output_type": "stream",
     "text": [
      "100 14840 14840\n",
      "100 0.00100 0.00000 0.00\n",
      "10000 14994 14994\n",
      "10000 7.49537 0.00199 3765.46\n"
     ]
    }
   ],
   "source": [
    "import time\n",
    "import random\n",
    "\n",
    "def max_profit_slow(prices):\n",
    "    n = len(prices)\n",
    "    max_profit = 0\n",
    "    \n",
    "    for i in range(0, n-1):\n",
    "        for j in range(i+1, n):\n",
    "            profit = prices[j] - prices[i]\n",
    "            if profit > max_profit:\n",
    "                max_profit = profit\n",
    "    return max_profit\n",
    "\n",
    "def max_profit_fast(prices):\n",
    "    n = len(prices)\n",
    "    max_profit = 0\n",
    "    min_price = prices[0]\n",
    "    \n",
    "    for i in range(1,n):\n",
    "        profit = prices[i] - min_price\n",
    "        if profit > max_profit:\n",
    "            max_profit = profit\n",
    "        if prices[i] < min_price:\n",
    "            min_price = prices[i]\n",
    "    \n",
    "    return max_profit\n",
    "\n",
    "def test(n):\n",
    "    a = []\n",
    "    for i in range(0,n):\n",
    "        a.append(random.randint(5000, 20000))\n",
    "        \n",
    "    start = time.time()\n",
    "    mps = max_profit_slow(a)\n",
    "    end = time.time()\n",
    "    time_slow = end - start\n",
    "        \n",
    "    start = time.time()\n",
    "    mpf = max_profit_fast(a)\n",
    "    end = time.time()\n",
    "    time_fast = end - start    \n",
    "        \n",
    "    print(n, mps, mpf)\n",
    "    m = 0\n",
    "    if time_fast > 0:    \n",
    "        m = time_slow / time_fast    \n",
    "    print(\"%d %.5f %.5f %.2f\" % (n, time_slow, time_fast, m))\n",
    "    \n",
    "test(100)\n",
    "test(10000)\n",
    "        \n"
   ]
  }
 ],
 "metadata": {
  "kernelspec": {
   "display_name": "Python 3",
   "language": "python",
   "name": "python3"
  },
  "language_info": {
   "codemirror_mode": {
    "name": "ipython",
    "version": 3
   },
   "file_extension": ".py",
   "mimetype": "text/x-python",
   "name": "python",
   "nbconvert_exporter": "python",
   "pygments_lexer": "ipython3",
   "version": "3.7.4"
  }
 },
 "nbformat": 4,
 "nbformat_minor": 2
}
