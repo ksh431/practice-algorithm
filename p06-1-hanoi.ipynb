{
 "cells": [
  {
   "cell_type": "code",
   "execution_count": 1,
   "metadata": {},
   "outputs": [
    {
     "name": "stdout",
     "output_type": "stream",
     "text": [
      "n=1\n",
      "1 -> 3\n",
      "n=2\n",
      "1 -> 2\n",
      "1 -> 3\n",
      "2 -> 3\n",
      "n=3\n",
      "1 -> 3\n",
      "1 -> 2\n",
      "3 -> 2\n",
      "1 -> 3\n",
      "2 -> 1\n",
      "2 -> 3\n",
      "1 -> 3\n"
     ]
    }
   ],
   "source": [
    "def hanoi(n, from_pos, to_pos, aux_pos):\n",
    "    if n == 1:\n",
    "        print(from_pos, \"->\", to_pos)\n",
    "        return\n",
    "    hanoi(n-1, from_pos, aux_pos, to_pos)\n",
    "    print(from_pos, \"->\", to_pos)\n",
    "    hanoi(n-1, aux_pos, to_pos, from_pos)\n",
    "\n",
    "print(\"n=1\")\n",
    "hanoi(1, 1, 3, 2)\n",
    "print(\"n=2\")\n",
    "hanoi(2, 1, 3, 2)\n",
    "print(\"n=3\")\n",
    "hanoi(3, 1, 3, 2)"
   ]
  },
  {
   "cell_type": "code",
   "execution_count": null,
   "metadata": {},
   "outputs": [],
   "source": []
  }
 ],
 "metadata": {
  "kernelspec": {
   "display_name": "Python 3",
   "language": "python",
   "name": "python3"
  },
  "language_info": {
   "codemirror_mode": {
    "name": "ipython",
    "version": 3
   },
   "file_extension": ".py",
   "mimetype": "text/x-python",
   "name": "python",
   "nbconvert_exporter": "python",
   "pygments_lexer": "ipython3",
   "version": "3.7.4"
  }
 },
 "nbformat": 4,
 "nbformat_minor": 2
}
