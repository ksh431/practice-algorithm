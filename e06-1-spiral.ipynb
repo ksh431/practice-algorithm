{
 "cells": [
  {
   "cell_type": "code",
   "execution_count": 1,
   "metadata": {},
   "outputs": [
    {
     "data": {
      "text/plain": [
       "<function turtle.mainloop()>"
      ]
     },
     "execution_count": 1,
     "metadata": {},
     "output_type": "execute_result"
    }
   ],
   "source": [
    "import turtle as t\n",
    "\n",
    "def spiral(sp_len):\n",
    "    if sp_len <= 5:\n",
    "        return\n",
    "    \n",
    "    t.forward(sp_len)\n",
    "    t.right(90)\n",
    "    spiral(sp_len - 5)\n",
    "    \n",
    "t.speed(0)\n",
    "spiral(200)\n",
    "t.hideturtle()\n",
    "t.done"
   ]
  },
  {
   "cell_type": "code",
   "execution_count": null,
   "metadata": {},
   "outputs": [],
   "source": []
  }
 ],
 "metadata": {
  "kernelspec": {
   "display_name": "Python 3",
   "language": "python",
   "name": "python3"
  },
  "language_info": {
   "codemirror_mode": {
    "name": "ipython",
    "version": 3
   },
   "file_extension": ".py",
   "mimetype": "text/x-python",
   "name": "python",
   "nbconvert_exporter": "python",
   "pygments_lexer": "ipython3",
   "version": "3.7.4"
  }
 },
 "nbformat": 4,
 "nbformat_minor": 2
}
