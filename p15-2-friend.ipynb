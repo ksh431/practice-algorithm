{
 "cells": [
  {
   "cell_type": "code",
   "execution_count": 1,
   "metadata": {},
   "outputs": [
    {
     "name": "stdout",
     "output_type": "stream",
     "text": [
      "Summer 0\n",
      "John 1\n",
      "Justin 1\n",
      "Mike 1\n",
      "May 2\n",
      "Kim 3\n",
      "\n",
      "Jerry 0\n",
      "Tom 1\n"
     ]
    }
   ],
   "source": [
    "def print_all_friends(g, start):\n",
    "    qu = []\n",
    "    done = set()\n",
    "    \n",
    "    qu.append((start, 0))\n",
    "    \n",
    "    done.add(start)\n",
    "    \n",
    "    while qu:\n",
    "        (p, d) = qu.pop(0)\n",
    "        print(p, d)\n",
    "        for x in g[p]:\n",
    "            if x not in done:\n",
    "                qu.append((x, d+1))\n",
    "                done.add(x)\n",
    "        \n",
    "                \n",
    "fr_info={\n",
    "    'Summer':['John', 'Justin', 'Mike'],\n",
    "'John': ['Summer', 'Justin'],\n",
    "'Justin' : ['John', 'Summer', 'Mike', 'May'],\n",
    "'Mike': ['Summer', 'Justin'],\n",
    "'May': ['Justin', 'Kim'],\n",
    "'Kim': ['May'],\n",
    "'Tom': ['Jerry'],\n",
    "'Jerry': ['Tom']\n",
    "}\n",
    "\n",
    "print_all_friends(fr_info, 'Summer')\n",
    "print()\n",
    "print_all_friends(fr_info, 'Jerry')"
   ]
  },
  {
   "cell_type": "code",
   "execution_count": null,
   "metadata": {},
   "outputs": [],
   "source": []
  }
 ],
 "metadata": {
  "kernelspec": {
   "display_name": "Python 3",
   "language": "python",
   "name": "python3"
  },
  "language_info": {
   "codemirror_mode": {
    "name": "ipython",
    "version": 3
   },
   "file_extension": ".py",
   "mimetype": "text/x-python",
   "name": "python",
   "nbconvert_exporter": "python",
   "pygments_lexer": "ipython3",
   "version": "3.7.4"
  }
 },
 "nbformat": 4,
 "nbformat_minor": 2
}
