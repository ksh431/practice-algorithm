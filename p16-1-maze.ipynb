{
 "cells": [
  {
   "cell_type": "code",
   "execution_count": 4,
   "metadata": {},
   "outputs": [
    {
     "name": "stdout",
     "output_type": "stream",
     "text": [
      "aeimnjfghlp\n"
     ]
    }
   ],
   "source": [
    "def solve_maze(g, start, end):\n",
    "    qu = []\n",
    "    done = set()\n",
    "    qu.append(start)\n",
    "    done.add(start)\n",
    "    \n",
    "    while qu:\n",
    "        p= qu.pop(0)\n",
    "        v = p[-1]\n",
    "        if v == end:\n",
    "            return p\n",
    "        for x in g[v]:\n",
    "            if x not in done:\n",
    "                qu.append(p+x)\n",
    "                done.add(x)\n",
    "    return \"?\"\n",
    "        \n",
    "maze = {\n",
    "    'a' : ['e'],\n",
    "    'b' : ['c', 'f'],\n",
    "    'c' : ['b', 'd'],\n",
    "    'd' : ['c'],\n",
    "    'e' : ['a', 'i'],\n",
    "    'f' : ['b', 'g', 'j'],\n",
    "    'g' : ['f', 'h'],\n",
    "    'h' : ['g', 'l'],\n",
    "    'i' : ['e', 'm'],\n",
    "    'j' : ['f', 'k', 'n'],\n",
    "    'k' : ['j', 'o'],\n",
    "    'l' : ['h', 'p'],\n",
    "    'm' : ['i', 'n'],\n",
    "    'n' : ['m', 'j'],\n",
    "    'o' : ['k'],\n",
    "    'p' : ['l'],\n",
    "}\n",
    "print(solve_maze(maze, 'a', 'p'))"
   ]
  }
 ],
 "metadata": {
  "kernelspec": {
   "display_name": "Python 3",
   "language": "python",
   "name": "python3"
  },
  "language_info": {
   "codemirror_mode": {
    "name": "ipython",
    "version": 3
   },
   "file_extension": ".py",
   "mimetype": "text/x-python",
   "name": "python",
   "nbconvert_exporter": "python",
   "pygments_lexer": "ipython3",
   "version": "3.7.4"
  }
 },
 "nbformat": 4,
 "nbformat_minor": 2
}
