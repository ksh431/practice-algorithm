{
 "cells": [
  {
   "cell_type": "code",
   "execution_count": 5,
   "metadata": {},
   "outputs": [
    {
     "name": "stdout",
     "output_type": "stream",
     "text": [
      "John\n",
      "?\n",
      "Summer\n"
     ]
    }
   ],
   "source": [
    "def search_list(a,b,x):\n",
    "    n = len(a)\n",
    "    for i in range(0, n):\n",
    "        if x == a[i]:\n",
    "            return b[i]\n",
    "    return \"?\"\n",
    "    \n",
    "stu_no = [39, 14, 67, 105]\n",
    "stu_name = [\"Justin\", \"John\", \"Mike\", \"Summer\"]\n",
    "print(search_list(stu_no, stu_name, 14))\n",
    "print(search_list(stu_no, stu_name, 33))\n",
    "print(search_list(stu_no, stu_name, 105))"
   ]
  }
 ],
 "metadata": {
  "kernelspec": {
   "display_name": "Python 3",
   "language": "python",
   "name": "python3"
  },
  "language_info": {
   "codemirror_mode": {
    "name": "ipython",
    "version": 3
   },
   "file_extension": ".py",
   "mimetype": "text/x-python",
   "name": "python",
   "nbconvert_exporter": "python",
   "pygments_lexer": "ipython3",
   "version": "3.7.4"
  }
 },
 "nbformat": 4,
 "nbformat_minor": 2
}
